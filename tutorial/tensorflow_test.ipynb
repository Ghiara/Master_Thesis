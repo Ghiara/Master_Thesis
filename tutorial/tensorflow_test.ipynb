{
 "cells": [
  {
   "cell_type": "code",
   "execution_count": 1,
   "metadata": {},
   "outputs": [],
   "source": [
    "# import packages and data set MNIST\n",
    "import tensorflow as tf\n",
    "tf.enable_eager_execution()\n",
    "import numpy as np\n",
    "\n",
    "mnist = tf.keras.datasets.mnist\n",
    "\n",
    "(x_train, y_train), (x_test, y_test) = mnist.load_data()\n",
    "x_train, x_test = x_train / 255.0, x_test / 255.0"
   ]
  },
  {
   "cell_type": "code",
   "execution_count": 2,
   "metadata": {},
   "outputs": [],
   "source": [
    "# build the NN model\n",
    "\n",
    "model = tf.keras.models.Sequential([\n",
    "  tf.keras.layers.Flatten(input_shape=(28, 28)),\n",
    "  tf.keras.layers.Dense(128, activation='relu'),\n",
    "  tf.keras.layers.Dropout(0.2),\n",
    "  tf.keras.layers.Dense(10)\n",
    "])"
   ]
  },
  {
   "cell_type": "code",
   "execution_count": 3,
   "metadata": {},
   "outputs": [
    {
     "data": {
      "text/plain": [
       "array([[ 0.7219994 ,  0.03851923, -0.60796845, -0.34495887,  0.26929867,\n",
       "         0.16979468, -0.35175967, -0.16407262,  0.17893612, -0.1404448 ]],\n",
       "      dtype=float32)"
      ]
     },
     "execution_count": 3,
     "metadata": {},
     "output_type": "execute_result"
    }
   ],
   "source": [
    "# Display the single returned class\n",
    "predictions = model(x_train[:1]).numpy()\n",
    "predictions"
   ]
  },
  {
   "cell_type": "code",
   "execution_count": 4,
   "metadata": {},
   "outputs": [
    {
     "data": {
      "text/plain": [
       "array([[0.19677013, 0.09934077, 0.05204289, 0.06769943, 0.12512776,\n",
       "        0.11327647, 0.06724059, 0.08112281, 0.11431672, 0.08306238]],\n",
       "      dtype=float32)"
      ]
     },
     "execution_count": 4,
     "metadata": {},
     "output_type": "execute_result"
    }
   ],
   "source": [
    "# use softmax to transfer the logits into probability\n",
    "tf.nn.softmax(predictions).numpy()"
   ]
  },
  {
   "cell_type": "code",
   "execution_count": 5,
   "metadata": {},
   "outputs": [],
   "source": [
    "# define the loss func\n",
    "loss_fn = tf.keras.losses.SparseCategoricalCrossentropy(from_logits=True)"
   ]
  },
  {
   "cell_type": "code",
   "execution_count": 6,
   "metadata": {},
   "outputs": [
    {
     "data": {
      "text/plain": [
       "2.1779237"
      ]
     },
     "execution_count": 6,
     "metadata": {},
     "output_type": "execute_result"
    }
   ],
   "source": [
    "loss_fn(y_train[:1], predictions).numpy()"
   ]
  },
  {
   "cell_type": "code",
   "execution_count": 7,
   "metadata": {},
   "outputs": [],
   "source": [
    "# compile the model, -> define the optimizer, feed the loss func, and define the model evaluate criterien\n",
    "model.compile(optimizer='adam',\n",
    "              loss=loss_fn,\n",
    "              metrics=['accuracy'])"
   ]
  },
  {
   "cell_type": "code",
   "execution_count": 8,
   "metadata": {},
   "outputs": [
    {
     "name": "stdout",
     "output_type": "stream",
     "text": [
      "Epoch 1/5\n",
      "60000/60000 [==============================] - 3s 50us/sample - loss: 0.2948 - acc: 0.9148\n",
      "Epoch 2/5\n",
      "60000/60000 [==============================] - 3s 45us/sample - loss: 0.1431 - acc: 0.9573\n",
      "Epoch 3/5\n",
      "60000/60000 [==============================] - 3s 45us/sample - loss: 0.1058 - acc: 0.9685\n",
      "Epoch 4/5\n",
      "60000/60000 [==============================] - 3s 45us/sample - loss: 0.0878 - acc: 0.9730\n",
      "Epoch 5/5\n",
      "60000/60000 [==============================] - 3s 45us/sample - loss: 0.0731 - acc: 0.9774\n"
     ]
    },
    {
     "data": {
      "text/plain": [
       "<tensorflow.python.keras.callbacks.History at 0x7f48ca39e898>"
      ]
     },
     "execution_count": 8,
     "metadata": {},
     "output_type": "execute_result"
    }
   ],
   "source": [
    "# fit/ train the model -> in order to configure the parameters, minimizing the loss.\n",
    "model.fit(x_train, y_train, epochs=5)"
   ]
  },
  {
   "cell_type": "code",
   "execution_count": 9,
   "metadata": {},
   "outputs": [
    {
     "name": "stdout",
     "output_type": "stream",
     "text": [
      "10000/10000 - 0s - loss: 0.0766 - acc: 0.9751\n"
     ]
    },
    {
     "data": {
      "text/plain": [
       "[0.07663739976426587, 0.9751]"
      ]
     },
     "execution_count": 9,
     "metadata": {},
     "output_type": "execute_result"
    }
   ],
   "source": [
    "# Use Validation / Test set to evaluate the model\n",
    "model.evaluate(x_test,  y_test, verbose=2)"
   ]
  },
  {
   "cell_type": "code",
   "execution_count": 10,
   "metadata": {},
   "outputs": [],
   "source": [
    "# Package the model together with the softmax layer\n",
    "\n",
    "probability_model = tf.keras.Sequential([\n",
    "  model,\n",
    "  tf.keras.layers.Softmax()\n",
    "])"
   ]
  },
  {
   "cell_type": "code",
   "execution_count": 11,
   "metadata": {},
   "outputs": [
    {
     "data": {
      "text/plain": [
       "<tf.Tensor: id=68333, shape=(5, 10), dtype=float32, numpy=\n",
       "array([[1.5531460e-06, 2.5046745e-07, 1.9844194e-06, 7.0399656e-05,\n",
       "        2.8205790e-10, 1.8713153e-07, 2.4250389e-14, 9.9989891e-01,\n",
       "        3.6211031e-07, 2.6370808e-05],\n",
       "       [1.8677030e-08, 5.1606917e-06, 9.9999380e-01, 9.0137161e-07,\n",
       "        4.0444400e-17, 1.3394269e-07, 1.5680325e-10, 1.3694128e-15,\n",
       "        4.6981166e-09, 2.8250163e-16],\n",
       "       [4.4752802e-08, 9.9905032e-01, 3.8032624e-05, 4.4858389e-06,\n",
       "        7.7471879e-05, 2.5960620e-05, 1.5316053e-05, 5.8905332e-04,\n",
       "        1.9882663e-04, 5.3772777e-07],\n",
       "       [9.9988639e-01, 3.1266234e-09, 8.7694093e-07, 1.7761002e-07,\n",
       "        1.5748700e-08, 2.1814596e-07, 1.1242028e-07, 3.1552692e-05,\n",
       "        5.5064135e-09, 8.0610662e-05],\n",
       "       [1.5736706e-06, 1.2730671e-08, 6.7970022e-06, 1.3662712e-07,\n",
       "        9.5674980e-01, 2.7339905e-07, 6.1755372e-07, 1.8178146e-04,\n",
       "        3.7232958e-06, 4.3055322e-02]], dtype=float32)>"
      ]
     },
     "execution_count": 11,
     "metadata": {},
     "output_type": "execute_result"
    }
   ],
   "source": [
    "# show the final results\n",
    "\n",
    "probability_model(x_test[:5])"
   ]
  },
  {
   "cell_type": "code",
   "execution_count": null,
   "metadata": {},
   "outputs": [],
   "source": []
  }
 ],
 "metadata": {
  "kernelspec": {
   "display_name": "Python 3.6.13 ('thesis')",
   "language": "python",
   "name": "python3"
  },
  "language_info": {
   "codemirror_mode": {
    "name": "ipython",
    "version": 3
   },
   "file_extension": ".py",
   "mimetype": "text/x-python",
   "name": "python",
   "nbconvert_exporter": "python",
   "pygments_lexer": "ipython3",
   "version": "3.6.13"
  },
  "orig_nbformat": 4,
  "vscode": {
   "interpreter": {
    "hash": "df2e41b52cc8bb4bb9914b1346d058634c6c17db7d217fefe8fb04a624c21275"
   }
  }
 },
 "nbformat": 4,
 "nbformat_minor": 2
}
